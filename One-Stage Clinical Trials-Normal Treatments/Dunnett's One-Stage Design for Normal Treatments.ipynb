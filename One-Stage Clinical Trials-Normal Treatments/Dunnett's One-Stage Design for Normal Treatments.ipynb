{
 "cells": [
  {
   "cell_type": "markdown",
   "id": "44c29c00-4bbe-4ba8-a0ed-22c403208da8",
   "metadata": {},
   "source": [
    "### Change K, h_array according to the Table 1 in Dunnet's study"
   ]
  },
  {
   "cell_type": "markdown",
   "id": "1c49e376-16cb-498b-926c-7950588652ec",
   "metadata": {},
   "source": [
    "## B_delta0_array is about the P1(Overall power, 1-Beta in our study ) and regarding delta"
   ]
  },
  {
   "cell_type": "code",
   "execution_count": 1,
   "id": "8dc62d50-8052-4baa-9b66-c0adcf2826d2",
   "metadata": {},
   "outputs": [
    {
     "name": "stdout",
     "output_type": "stream",
     "text": [
      "   k  delta0         Nt    p1\n",
      "0  4   0.100  7207.6169  0.70\n",
      "1  4   0.100  8036.0329  0.75\n",
      "2  4   0.095  8173.7243  0.80\n",
      "3  4   0.090  8445.5408  0.85\n",
      "4  4   0.075  7581.6591  0.90\n"
     ]
    }
   ],
   "source": [
    "import numpy as np\n",
    "from scipy.stats import norm\n",
    "from scipy.integrate import quad\n",
    "from scipy.optimize import root_scalar\n",
    "import pandas as pd\n",
    "\n",
    "def compute_integral(Nt, h, k, delta1_star, delta2_star, delta0_star, sigma, R, p1_star):\n",
    "    def integrand(z):\n",
    "        term1 = norm.cdf(z + (delta2_star * np.sqrt(Nt)) / (sigma * np.sqrt(R + k)))\\\n",
    "        ** (k - 1)\n",
    "        inner_term = z - h * np.sqrt(1 + 1/R) + (delta1_star * np.sqrt(Nt)) /\\\n",
    "        (sigma * np.sqrt(R + k)) * (1 - delta0_star / delta1_star)\n",
    "        term2 = norm.cdf(np.sqrt(R) * inner_term)\n",
    "        return term1 * term2 * norm.pdf(z)\n",
    "\n",
    "    result, _ = quad(integrand, -np.inf, np.inf)\n",
    "    return result - p1_star\n",
    "\n",
    "def find_Nt_given_combinations(k, delta1_star, delta2_star, sigma, R,B_delta0_array,h_array,p0_array):\n",
    "\n",
    "    results = []\n",
    "\n",
    "    for B, delta0 in B_delta0_array:\n",
    "        for h, p0 in zip(h_array, p0_array):\n",
    "            p1 = B\n",
    "\n",
    "            f_low = compute_integral(1, h, k, delta1_star, delta2_star, delta0, sigma, R, p1)\n",
    "            f_high = compute_integral(10000, h, k, delta1_star, delta2_star, delta0, sigma, R, p1)\n",
    "\n",
    "            if f_low * f_high > 0:\n",
    "                Nt = None\n",
    "            else:\n",
    "                sol = root_scalar(\n",
    "                    compute_integral,\n",
    "                    args=(h, k, delta1_star, delta2_star, delta0, sigma, R, p1),\n",
    "                    bracket=(1, 10000),\n",
    "                    method='brentq'\n",
    "                )\n",
    "                Nt = sol.root if sol.converged else None\n",
    "\n",
    "            results.append({\n",
    "                'k': k,\n",
    "                'delta0': delta0,\n",
    "                'Nt': round(Nt, 4) if Nt is not None else None,\n",
    "                'p1': round(p1, 4),\n",
    "            })\n",
    "\n",
    "    return pd.DataFrame(results)\n",
    "\n",
    "# Parameters\n",
    "# Overall power and gamma(delta0) values from this study's Table 5.1\n",
    "k = 4\n",
    "B_delta0_array = [(0.7, 0.1), (0.75, 0.1),(0.8,0.095),(0.85,0.090),(0.90,0.075)] \n",
    "\n",
    "# From Dunnett's study\n",
    "h_array = [2.1603]\n",
    "p0_array = [0.95]\n",
    "\n",
    "delta1_star = 0.2\n",
    "delta2_star = 0.2\n",
    "sigma = 1\n",
    "R = 1\n",
    "\n",
    "# Run and show results\n",
    "df = find_Nt_given_combinations(k, delta1_star, delta2_star, sigma, \\\n",
    "                                R,B_delta0_array,h_array,p0_array)\n",
    "print(df)"
   ]
  },
  {
   "cell_type": "code",
   "execution_count": null,
   "id": "089e77b8-d9f0-4dd7-83b8-efebb92645e5",
   "metadata": {},
   "outputs": [],
   "source": []
  }
 ],
 "metadata": {
  "kernelspec": {
   "display_name": "Python 3 (ipykernel)",
   "language": "python",
   "name": "python3"
  },
  "language_info": {
   "codemirror_mode": {
    "name": "ipython",
    "version": 3
   },
   "file_extension": ".py",
   "mimetype": "text/x-python",
   "name": "python",
   "nbconvert_exporter": "python",
   "pygments_lexer": "ipython3",
   "version": "3.11.7"
  }
 },
 "nbformat": 4,
 "nbformat_minor": 5
}
